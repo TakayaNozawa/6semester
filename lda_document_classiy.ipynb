{
 "nbformat": 4,
 "nbformat_minor": 2,
 "metadata": {
  "language_info": {
   "name": "python",
   "codemirror_mode": {
    "name": "ipython",
    "version": 3
   },
   "version": "3.6.9"
  },
  "orig_nbformat": 2,
  "file_extension": ".py",
  "mimetype": "text/x-python",
  "name": "python",
  "npconvert_exporter": "python",
  "pygments_lexer": "ipython3",
  "version": 3
 },
 "cells": [
  {
   "cell_type": "markdown",
   "execution_count": 9,
   "metadata": {},
   "outputs": [
    {
     "ename": "NameError",
     "evalue": "name '入力テキストを変更する際はipythonカーネルをリスタートさせる必要があり' is not defined",
     "output_type": "error",
     "traceback": [
      "\u001b[0;31m---------------------------------------------------------------------------\u001b[0m",
      "\u001b[0;31mNameError\u001b[0m                                 Traceback (most recent call last)",
      "\u001b[0;32m<ipython-input-9-1ad89b097f64>\u001b[0m in \u001b[0;36m<module>\u001b[0;34m\u001b[0m\n\u001b[0;32m----> 1\u001b[0;31m \u001b[0m入力テキストを変更する際はipythonカーネルをリスタートさせる必要があり\u001b[0m\u001b[0;34m\u001b[0m\u001b[0;34m\u001b[0m\u001b[0m\n\u001b[0m",
      "\u001b[0;31mNameError\u001b[0m: name '入力テキストを変更する際はipythonカーネルをリスタートさせる必要があり' is not defined"
     ]
    }
   ],
   "source": [
    "入力テキストを変更する際はipythonカーネルをリスタートさせる必要があり"
   ]
  },
  {
   "cell_type": "code",
   "execution_count": 1,
   "metadata": {},
   "outputs": [
    {
     "name": "stderr",
     "output_type": "stream",
     "text": "/home/takayanowaza/.local/lib/python3.6/site-packages/sklearn/externals/six.py:31: FutureWarning: The module is deprecated in version 0.21 and will be removed in version 0.23 since we've dropped support for Python 2.7. Please rely on the official version of six (https://pypi.org/project/six/).\n  \"(https://pypi.org/project/six/).\", FutureWarning)\n/home/takayanowaza/.local/lib/python3.6/site-packages/sklearn/externals/joblib/__init__.py:15: FutureWarning: sklearn.externals.joblib is deprecated in 0.21 and will be removed in 0.23. Please import this functionality directly from joblib, which can be installed with: pip install joblib. If this warning is raised when loading pickled models, you may need to re-serialize those models with scikit-learn 0.21+.\n  warnings.warn(msg, category=FutureWarning)\n"
    }
   ],
   "source": [
    "from sklearn.datasets import fetch_20newsgroups\n",
    "from sklearn.feature_extraction.text import CountVectorizer as CV\n",
    "import numpy as np\n",
    "from sklearn.decomposition import LatentDirichletAllocation as LDA\n",
    "from sklearn.feature_extraction.text import TfidfVectorizer as TV\n",
    "import mglearn"
   ]
  },
  {
   "cell_type": "code",
   "execution_count": 2,
   "metadata": {},
   "outputs": [],
   "source": [
    "categories = ['rec.sport.baseball','sci.space','comp.sys.mac.hardware', 'comp.windows.x','talk.politics.guns']\n",
    "\n",
    "news20 = fetch_20newsgroups(categories=categories)\n",
    "news = news20.data"
   ]
  },
  {
   "cell_type": "code",
   "execution_count": 3,
   "metadata": {},
   "outputs": [
    {
     "data": {
      "text/plain": "9766"
     },
     "execution_count": 3,
     "metadata": {},
     "output_type": "execute_result"
    }
   ],
   "source": [
    "# 単語の出現頻度データを作成\n",
    "cv = CV(max_df=0.5, min_df=5, stop_words='english')#ここもわけわからん。max_difとmin_dif\n",
    "cv_fit = cv.fit(news)\n",
    "cv_transform = cv_fit.transform(news)\n",
    "len(cv.get_feature_names())\n"
   ]
  },
  {
   "cell_type": "code",
   "execution_count": 4,
   "metadata": {},
   "outputs": [
    {
     "data": {
      "text/plain": "LatentDirichletAllocation(batch_size=128, doc_topic_prior=None,\n                          evaluate_every=-1, learning_decay=0.7,\n                          learning_method='online', learning_offset=10.0,\n                          max_doc_update_iter=100, max_iter=10,\n                          mean_change_tol=0.001, n_components=5, n_jobs=None,\n                          perp_tol=0.1, random_state=None,\n                          topic_word_prior=None, total_samples=1000000.0,\n                          verbose=0)"
     },
     "execution_count": 4,
     "metadata": {},
     "output_type": "execute_result"
    }
   ],
   "source": [
    "# LDAのモデル作成と学習\n",
    "lda = LDA(n_components=5,learning_method = 'online')\n",
    "lda.fit(cv_transform)"
   ]
  },
  {
   "cell_type": "code",
   "execution_count": 5,
   "metadata": {},
   "outputs": [
    {
     "name": "stdout",
     "output_type": "stream",
     "text": "topic #0\ngun, com, people, writes, don, article, guns, like, think, right, just, government, control, firearms, weapons, state, time, law, know \n\ntopic #1\nmac, apple, university, host, nntp, com, writes, know, article, drive, does, problem, like, thanks, computer, just, bit, use, don \n\ntopic #2\nwrites, article, year, com, baseball, good, game, team, university, don, think, nntp, host, cs, just, like, games, players, runs \n\ntopic #3\nfile, window, com, use, mit, program, server, motif, output, entry, available, widget, information, code, using, application, set, version, sun \n\ntopic #4\nspace, nasa, gov, com, writes, article, just, like, launch, moon, earth, access, data, orbit, nntp, host, henry, new, university \n\n"
    }
   ],
   "source": [
    "features = cv.get_feature_names()\n",
    "\n",
    "\n",
    "#↓ここに書いてることよくわからんチン\n",
    "for tn in range(5):\n",
    "    print(\"topic #\"+str(tn))#というかここから下がどうなってるかわからん\n",
    "    row = lda.components_[tn]\n",
    "    words = ', '.join([features[i] for i in row.argsort()[:-20:-1]])\n",
    "    print(words, \"\\n\")"
   ]
  },
  {
   "cell_type": "code",
   "execution_count": 6,
   "metadata": {},
   "outputs": [],
   "source": [
    "# predict\n",
    "text11=\"an American multinational technology company headquartered in Cupertino, \"+ \\\n",
    "        \"California, that designs, develops, and sells consumer electronics,\"+ \\\n",
    "        \"computer software, and online services.\"\n",
    "\n",
    "text12=\"The company's hardware products include the iPhone smartphone,\"+ \\\n",
    "        \"the iPad tablet computer, the Mac personal computer,\"+ \\\n",
    "        \"the iPod portable media player, the Apple Watch smartwatch,\"+ \\\n",
    "        \"the Apple TV digital media player, and the HomePod smart speaker.\"\n",
    "\n",
    "text13=\"there are nany baseball teams in the world,and a lot of team has students \"+ \\\n",
    "        \"many student and pro sports player is playing by same rule\"+ \\\n",
    "        \"becouse many people can playing baseball,and baseball is enjoyed by many people.\"\n",
    "\n",
    "test1=[text12, text13]"
   ]
  },
  {
   "cell_type": "code",
   "execution_count": 7,
   "metadata": {},
   "outputs": [],
   "source": [
    "X_test1 = cv.transform(test1)\n",
    "lda_test1 = lda.transform(X_test1)"
   ]
  },
  {
   "cell_type": "code",
   "execution_count": 8,
   "metadata": {},
   "outputs": [
    {
     "name": "stdout",
     "output_type": "stream",
     "text": "###  0\nThe company's hardware products include the iPhone smartphone,the iPad tablet computer, the Mac personal computer,the iPod portable media player, the Apple Watch smartwatch,the Apple TV digital media player, and the HomePod smart speaker.\n[0.14067705 0.47840676 0.17775505 0.19334473 0.00981641]  >>> topic [1]\n\n###  1\nthere are nany baseball teams in the world,and a lot of team has students many student and pro sports player is playing by same rulebecouse many people can playing baseball,and baseball is enjoyed by many people.\n[0.28247895 0.01205126 0.68166711 0.01179119 0.01201149]  >>> topic [2]\n\n"
    }
   ],
   "source": [
    "for i,lda in enumerate(lda_test1):\n",
    "    print(\"### \",i)\n",
    "    topicid=[i for i, x in enumerate(lda) if x == max(lda)]\n",
    "    print(test1[i])\n",
    "    print(lda,\" >>> topic\",topicid)\n",
    "    print(\"\")"
   ]
  },
  {
   "cell_type": "code",
   "execution_count": null,
   "metadata": {},
   "outputs": [],
   "source": []
  }
 ]
}